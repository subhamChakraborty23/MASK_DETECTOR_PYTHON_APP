{
  "nbformat": 4,
  "nbformat_minor": 0,
  "metadata": {
    "colab": {
      "name": "MaskDetector.ipynb",
      "provenance": []
    },
    "kernelspec": {
      "name": "python3",
      "display_name": "Python 3"
    },
    "accelerator": "GPU"
  },
  "cells": [
    {
      "cell_type": "code",
      "metadata": {
        "id": "18XrrYoftjjV",
        "colab_type": "code",
        "colab": {}
      },
      "source": [
        "from keras.optimizers import RMSprop\n",
        "from keras.preprocessing.image import ImageDataGenerator\n",
        "import cv2\n",
        "from keras.models import Sequential\n",
        "from keras.layers import Conv2D, Input, ZeroPadding2D, BatchNormalization, Activation, MaxPooling2D, Flatten, Dense,Dropout\n",
        "from keras.models import Model, load_model\n",
        "from keras.callbacks import TensorBoard, ModelCheckpoint\n",
        "from sklearn.model_selection import train_test_split\n",
        "from sklearn.metrics import f1_score\n",
        "from sklearn.utils import shuffle\n",
        "import imutils\n",
        "import numpy as np"
      ],
      "execution_count": null,
      "outputs": []
    },
    {
      "cell_type": "code",
      "metadata": {
        "id": "v--SjphAtmqT",
        "colab_type": "code",
        "colab": {}
      },
      "source": [
        "model = Sequential([\n",
        "    Conv2D(100, (3,3), activation='relu', input_shape=(150, 150, 3)),\n",
        "    MaxPooling2D(2,2),\n",
        "    \n",
        "    Conv2D(100, (3,3), activation='relu'),\n",
        "    MaxPooling2D(2,2),\n",
        "    \n",
        "    Flatten(),\n",
        "    Dropout(0.5),\n",
        "    Dense(50, activation='relu'),\n",
        "    Dense(2, activation='softmax')\n",
        "])\n",
        "model.compile(optimizer='adam', loss='binary_crossentropy', metrics=['acc'])"
      ],
      "execution_count": null,
      "outputs": []
    },
    {
      "cell_type": "code",
      "metadata": {
        "id": "Zm1JXvLatyJH",
        "colab_type": "code",
        "colab": {
          "base_uri": "https://localhost:8080/",
          "height": 54
        },
        "outputId": "f25d1772-16c5-48f3-a923-71b9087223b3"
      },
      "source": [
        "TRAINING_DIR = \"/content/drive/My Drive/face-mask-dataset/Dataset/train\"\n",
        "train_datagen = ImageDataGenerator(rescale=1.0/255,\n",
        "                                   rotation_range=40,\n",
        "                                   width_shift_range=0.2,\n",
        "                                   height_shift_range=0.2,\n",
        "                                   shear_range=0.2,\n",
        "                                   zoom_range=0.2,\n",
        "                                   horizontal_flip=True,\n",
        "                                   fill_mode='nearest')\n",
        "train_generator = train_datagen.flow_from_directory(TRAINING_DIR, \n",
        "                                                    batch_size=10, \n",
        "                                                    target_size=(150, 150))\n",
        "VALIDATION_DIR = \"/content/drive/My Drive/face-mask-dataset/Dataset/test\"\n",
        "validation_datagen = ImageDataGenerator(rescale=1.0/255)\n",
        "validation_generator = validation_datagen.flow_from_directory(VALIDATION_DIR, \n",
        "                                                         batch_size=10, \n",
        "                                                         target_size=(150, 150))"
      ],
      "execution_count": null,
      "outputs": [
        {
          "output_type": "stream",
          "text": [
            "Found 1315 images belonging to 2 classes.\n",
            "Found 194 images belonging to 2 classes.\n"
          ],
          "name": "stdout"
        }
      ]
    },
    {
      "cell_type": "code",
      "metadata": {
        "id": "J4n-2vCduMdP",
        "colab_type": "code",
        "colab": {}
      },
      "source": [
        "checkpoint = ModelCheckpoint('model2-{epoch:03d}.model',monitor='val_loss',verbose=0,save_best_only=True,mode='auto')"
      ],
      "execution_count": null,
      "outputs": []
    },
    {
      "cell_type": "code",
      "metadata": {
        "id": "84UkO6dmuNzP",
        "colab_type": "code",
        "colab": {
          "base_uri": "https://localhost:8080/",
          "height": 692
        },
        "outputId": "01681325-ce23-4fbd-e94a-010a3d0555da"
      },
      "source": [
        "history = model.fit_generator(train_generator,\n",
        "                              epochs=10,\n",
        "                              validation_data=validation_generator,\n",
        "                              callbacks=[checkpoint])"
      ],
      "execution_count": null,
      "outputs": [
        {
          "output_type": "stream",
          "text": [
            "WARNING:tensorflow:From <ipython-input-6-6272b23e5a0b>:4: Model.fit_generator (from tensorflow.python.keras.engine.training) is deprecated and will be removed in a future version.\n",
            "Instructions for updating:\n",
            "Please use Model.fit, which supports generators.\n",
            "Epoch 1/10\n",
            "132/132 [==============================] - ETA: 0s - loss: 0.7169 - acc: 0.6859WARNING:tensorflow:From /usr/local/lib/python3.6/dist-packages/tensorflow/python/training/tracking/tracking.py:111: Model.state_updates (from tensorflow.python.keras.engine.training) is deprecated and will be removed in a future version.\n",
            "Instructions for updating:\n",
            "This property should not be used in TensorFlow 2.0, as updates are applied automatically.\n",
            "WARNING:tensorflow:From /usr/local/lib/python3.6/dist-packages/tensorflow/python/training/tracking/tracking.py:111: Layer.updates (from tensorflow.python.keras.engine.base_layer) is deprecated and will be removed in a future version.\n",
            "Instructions for updating:\n",
            "This property should not be used in TensorFlow 2.0, as updates are applied automatically.\n",
            "INFO:tensorflow:Assets written to: model2-001.model/assets\n",
            "132/132 [==============================] - 668s 5s/step - loss: 0.7169 - acc: 0.6859 - val_loss: 0.2824 - val_acc: 0.9381\n",
            "Epoch 2/10\n",
            "132/132 [==============================] - ETA: 0s - loss: 0.3459 - acc: 0.8646INFO:tensorflow:Assets written to: model2-002.model/assets\n",
            "132/132 [==============================] - 17s 126ms/step - loss: 0.3459 - acc: 0.8646 - val_loss: 0.1282 - val_acc: 0.9588\n",
            "Epoch 3/10\n",
            "132/132 [==============================] - ETA: 0s - loss: 0.2983 - acc: 0.8798INFO:tensorflow:Assets written to: model2-003.model/assets\n",
            "132/132 [==============================] - 16s 123ms/step - loss: 0.2983 - acc: 0.8798 - val_loss: 0.1223 - val_acc: 0.9536\n",
            "Epoch 4/10\n",
            "132/132 [==============================] - ETA: 0s - loss: 0.3008 - acc: 0.8760INFO:tensorflow:Assets written to: model2-004.model/assets\n",
            "132/132 [==============================] - 16s 120ms/step - loss: 0.3008 - acc: 0.8760 - val_loss: 0.1088 - val_acc: 0.9691\n",
            "Epoch 5/10\n",
            "132/132 [==============================] - 15s 114ms/step - loss: 0.2643 - acc: 0.9019 - val_loss: 0.1324 - val_acc: 0.9588\n",
            "Epoch 6/10\n",
            "132/132 [==============================] - ETA: 0s - loss: 0.2561 - acc: 0.8973INFO:tensorflow:Assets written to: model2-006.model/assets\n",
            "132/132 [==============================] - 16s 119ms/step - loss: 0.2561 - acc: 0.8973 - val_loss: 0.1045 - val_acc: 0.9794\n",
            "Epoch 7/10\n",
            "132/132 [==============================] - 15s 116ms/step - loss: 0.2330 - acc: 0.9027 - val_loss: 0.1168 - val_acc: 0.9536\n",
            "Epoch 8/10\n",
            "132/132 [==============================] - ETA: 0s - loss: 0.2194 - acc: 0.9293INFO:tensorflow:Assets written to: model2-008.model/assets\n",
            "132/132 [==============================] - 16s 119ms/step - loss: 0.2194 - acc: 0.9293 - val_loss: 0.1013 - val_acc: 0.9794\n",
            "Epoch 9/10\n",
            "132/132 [==============================] - ETA: 0s - loss: 0.2068 - acc: 0.9232INFO:tensorflow:Assets written to: model2-009.model/assets\n",
            "132/132 [==============================] - 16s 120ms/step - loss: 0.2068 - acc: 0.9232 - val_loss: 0.0943 - val_acc: 0.9639\n",
            "Epoch 10/10\n",
            "132/132 [==============================] - 15s 114ms/step - loss: 0.2045 - acc: 0.9247 - val_loss: 0.2279 - val_acc: 0.8814\n"
          ],
          "name": "stdout"
        }
      ]
    },
    {
      "cell_type": "code",
      "metadata": {
        "id": "JsfalBtZ9Cng",
        "colab_type": "code",
        "colab": {
          "base_uri": "https://localhost:8080/",
          "height": 454
        },
        "outputId": "fca6bc11-4ba3-4abb-ef95-2ed6e91ea6af"
      },
      "source": [
        "model.summary()"
      ],
      "execution_count": null,
      "outputs": [
        {
          "output_type": "stream",
          "text": [
            "Model: \"sequential_1\"\n",
            "_________________________________________________________________\n",
            "Layer (type)                 Output Shape              Param #   \n",
            "=================================================================\n",
            "conv2d_2 (Conv2D)            (None, 148, 148, 100)     2800      \n",
            "_________________________________________________________________\n",
            "max_pooling2d_2 (MaxPooling2 (None, 74, 74, 100)       0         \n",
            "_________________________________________________________________\n",
            "conv2d_3 (Conv2D)            (None, 72, 72, 100)       90100     \n",
            "_________________________________________________________________\n",
            "max_pooling2d_3 (MaxPooling2 (None, 36, 36, 100)       0         \n",
            "_________________________________________________________________\n",
            "flatten_1 (Flatten)          (None, 129600)            0         \n",
            "_________________________________________________________________\n",
            "dropout_1 (Dropout)          (None, 129600)            0         \n",
            "_________________________________________________________________\n",
            "dense_2 (Dense)              (None, 50)                6480050   \n",
            "_________________________________________________________________\n",
            "dense_3 (Dense)              (None, 2)                 102       \n",
            "=================================================================\n",
            "Total params: 6,573,052\n",
            "Trainable params: 6,573,052\n",
            "Non-trainable params: 0\n",
            "_________________________________________________________________\n"
          ],
          "name": "stdout"
        }
      ]
    },
    {
      "cell_type": "code",
      "metadata": {
        "id": "zPUdJe-J8fZ2",
        "colab_type": "code",
        "colab": {}
      },
      "source": [
        "model.save(\"model1.h5\")"
      ],
      "execution_count": null,
      "outputs": []
    }
  ]
}